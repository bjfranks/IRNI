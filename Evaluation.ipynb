{
 "cells": [
  {
   "cell_type": "code",
   "execution_count": 1,
   "id": "153077ab",
   "metadata": {},
   "outputs": [],
   "source": [
    "import pickle\n",
    "import numpy as np\n",
    "import matplotlib.pyplot as plt"
   ]
  },
  {
   "cell_type": "code",
   "execution_count": 2,
   "id": "1fb60f81",
   "metadata": {},
   "outputs": [],
   "source": [
    "files = 'results_EoR/{}_{}.pkl'"
   ]
  },
  {
   "cell_type": "code",
   "execution_count": 3,
   "id": "f7937ac1",
   "metadata": {},
   "outputs": [],
   "source": [
    "def get(model, dataset, seed=None):\n",
    "    data = dict()\n",
    "    with open(files.format(model, dataset), 'rb') as f:\n",
    "        while True:\n",
    "            try:\n",
    "                out = pickle.load(f)\n",
    "                data[str(out[0])]=out\n",
    "            except EOFError:\n",
    "                break\n",
    "    if seed is None:\n",
    "        return data\n",
    "    else:\n",
    "        return data[str(seed)]"
   ]
  },
  {
   "cell_type": "code",
   "execution_count": 4,
   "id": "20e89131",
   "metadata": {},
   "outputs": [],
   "source": [
    "models = ['None', 'RNI', 'CLIP', 'ORNI', 'IRNI']\n",
    "datasets = ['PROTEINS', 'MUTAG', 'NCI1', 'TRI', 'TRIX', 'EXP', 'CEXP', 'CSL']"
   ]
  },
  {
   "cell_type": "code",
   "execution_count": 5,
   "id": "710b76c4",
   "metadata": {},
   "outputs": [],
   "source": [
    "def get_performance_table(models, datasets):\n",
    "    count = 0\n",
    "    result = []\n",
    "    result+=[[]]\n",
    "    result[-1]+=['Models']\n",
    "    for dataset in datasets:\n",
    "        result[-1]+=[dataset]\n",
    "\n",
    "    for model in models:\n",
    "        result+=[[]]\n",
    "        result[-1]+=[model]\n",
    "        for dataset in datasets:\n",
    "            try:\n",
    "                values = [x[1] for x in get(model, dataset).values()]\n",
    "                mean = np.mean(values)\n",
    "                if len(values) == 1:\n",
    "                    result[-1]+=['{:.2f}\\pm ?.??'.format(mean,std)]\n",
    "                else:\n",
    "                    std = np.std(values)\n",
    "                    result[-1]+=['{:.2f}\\pm {:.2f}'.format(mean,std)]\n",
    "                count+=len(values)\n",
    "            except OSError:\n",
    "                result[-1]+=['?.??\\pm ?.??']\n",
    "    print(count, 'values')\n",
    "    return result"
   ]
  },
  {
   "cell_type": "code",
   "execution_count": 6,
   "id": "da0ec901",
   "metadata": {},
   "outputs": [
    {
     "name": "stdout",
     "output_type": "stream",
     "text": [
      "328 values\n",
      "Models PROTEINS MUTAG NCI1 TRI TRIX EXP CEXP CSL \n",
      "$None$ & $0.68\\pm 0.06$ & $0.89\\pm 0.06$ & $0.82\\pm 0.01$ & $0.50\\pm 0.00$ & $0.50\\pm 0.00$ & $0.50\\pm 0.01$ & $0.74\\pm 0.02$ & $0.50\\pm 0.00$ & \\\\\n",
      "$RNI$ & $0.66\\pm 0.02$ & $0.89\\pm 0.04$ & $0.80\\pm 0.01$ & $0.99\\pm 0.00$ & $0.99\\pm 0.00$ & $0.98\\pm 0.02$ & $0.99\\pm 0.02$ & $0.85\\pm 0.06$ & \\\\\n",
      "$CLIP$ & $0.65\\pm 0.05$ & $0.85\\pm 0.09$ & $0.81\\pm 0.00$ & $0.99\\pm 0.00$ & $0.80\\pm 0.05$ & $0.98\\pm 0.05$ & $1.00\\pm 0.01$ & $1.00\\pm 0.01$ & \\\\\n",
      "$ORNI$ & $0.74\\pm 0.04$ & $0.86\\pm 0.07$ & $0.81\\pm 0.01$ & $0.99\\pm 0.00$ & $0.82\\pm 0.03$ & $0.97\\pm 0.02$ & $0.96\\pm 0.02$ & $1.00\\pm 0.00$ & \\\\\n",
      "$IRNI$ & $0.75\\pm 0.04$ & $0.85\\pm 0.05$ & $0.81\\pm 0.01$ & $0.99\\pm 0.01$ & $0.73\\pm 0.04$ & $0.98\\pm 0.05$ & $0.94\\pm 0.15$ & $1.00\\pm 0.00$ & \\\\\n"
     ]
    }
   ],
   "source": [
    "table = get_performance_table(models, datasets)\n",
    "first = True\n",
    "for row in table:\n",
    "    if first:\n",
    "        for col in row:\n",
    "            print(col, end=' ')\n",
    "        print()\n",
    "        first=False\n",
    "    else:\n",
    "        for col in row:\n",
    "            print('${}$'.format(col), end=' & ')\n",
    "        print('\\\\\\\\')"
   ]
  },
  {
   "cell_type": "code",
   "execution_count": 7,
   "id": "54056398",
   "metadata": {},
   "outputs": [],
   "source": [
    "def plot_bayes_sampling(model, dataset, seed):\n",
    "    relevant = get(model, dataset, seed)[3]\n",
    "    relevant = [x[1] for x in relevant]\n",
    "    minimum_list = []\n",
    "    minimum = 0\n",
    "    for x in relevant:\n",
    "        if x<minimum:\n",
    "            minimum=x\n",
    "        minimum_list+=[minimum]\n",
    "    plt.plot(minimum_list)\n",
    "    plt.show()"
   ]
  },
  {
   "cell_type": "code",
   "execution_count": 8,
   "id": "6451e29d",
   "metadata": {},
   "outputs": [
    {
     "data": {
      "image/png": "[encoded data removed]",
      "text/plain": [
       "<Figure size 432x288 with 1 Axes>"
      ]
     },
     "metadata": {
      "needs_background": "light"
     },
     "output_type": "display_data"
    }
   ],
   "source": [
    "plot_bayes_sampling('RNI', 'EXP', 0)"
   ]
  },
  {
   "cell_type": "code",
   "execution_count": 9,
   "id": "9bf6dcd0",
   "metadata": {},
   "outputs": [],
   "source": [
    "def get_avg_settings_table(models, dataset):\n",
    "    result = []\n",
    "    result+=[[]]\n",
    "    result[-1]+=['Models']\n",
    "    for setting in ['BS', 'E', 'LR', 'WD', 'F', 'L', 'D', 'SS', 'E']:\n",
    "        result[-1]+=[setting]\n",
    "    for model in models:\n",
    "        result+=[[]]\n",
    "        result[-1]+=[model]\n",
    "        try:\n",
    "            values = np.array(get(model, dataset, 0)[2][0][:-2])[None,...]\n",
    "            for i in range(1, len(get(model, dataset).values())):\n",
    "                values = np.concatenate((values, np.array(get(model, dataset, i)[2][0][:-2], dtype=np.float64)[None,...]), axis=0)\n",
    "            for mean, std in zip(np.mean(values, axis=0), np.std(values, axis=0)):\n",
    "                result[-1]+=['{:.2f}+-{:.2f}'.format(mean,std)]\n",
    "        except OSError:\n",
    "            result[-1]+=['?']\n",
    "    return result"
   ]
  },
  {
   "cell_type": "code",
   "execution_count": 10,
   "id": "fb515a4f",
   "metadata": {},
   "outputs": [
    {
     "name": "stdout",
     "output_type": "stream",
     "text": [
      "Models BS E LR WD F L D SS E \n",
      "None 224.50+-50.58 240.50+-178.68 -3.96+-1.86 -4.31+-4.02 65.67+-42.24 5.17+-2.54 2.50+-1.80 0.47+-0.34 1.00+-0.00 \n",
      "RNI 164.00+-83.70 433.75+-78.75 -2.75+-0.48 -8.33+-1.09 50.50+-18.98 7.75+-1.48 3.00+-2.00 0.35+-0.09 1.00+-0.00 \n",
      "CLIP 231.50+-24.50 192.50+-73.50 -2.73+-0.06 -9.55+-0.45 19.00+-3.00 7.50+-0.50 2.00+-0.00 0.61+-0.18 1.00+-0.00 \n",
      "ORNI 114.33+-103.63 382.00+-78.96 -3.47+-0.16 -7.73+-1.61 59.00+-49.28 8.67+-1.25 4.67+-0.47 0.47+-0.23 1.00+-0.00 \n",
      "IRNI 240.50+-15.50 194.00+-162.00 -3.13+-0.00 -8.75+-1.25 49.50+-5.50 9.50+-0.50 1.00+-0.00 0.76+-0.24 1.00+-0.00 \n"
     ]
    }
   ],
   "source": [
    "table = get_avg_settings_table(models, 'EXP')\n",
    "for row in table:\n",
    "    for col in row:\n",
    "        print(col, end=' ')\n",
    "    print()"
   ]
  },
  {
   "cell_type": "code",
   "execution_count": null,
   "id": "0478ac87",
   "metadata": {},
   "outputs": [],
   "source": []
  }
 ],
 "metadata": {
  "kernelspec": {
   "display_name": "Python 3 (ipykernel)",
   "language": "python",
   "name": "python3"
  },
  "language_info": {
   "codemirror_mode": {
    "name": "ipython",
    "version": 3
   },
   "file_extension": ".py",
   "mimetype": "text/x-python",
   "name": "python",
   "nbconvert_exporter": "python",
   "pygments_lexer": "ipython3",
   "version": "3.7.3"
  }
 },
 "nbformat": 4,
 "nbformat_minor": 5
}
